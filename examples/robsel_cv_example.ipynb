{
 "cells": [
  {
   "cell_type": "code",
   "execution_count": 1,
   "metadata": {
    "colab": {
     "base_uri": "https://localhost:8080/",
     "height": 51
    },
    "colab_type": "code",
    "id": "CyvNVtR14Ql7",
    "outputId": "ab2e967c-2a4c-43ab-e096-186a3d3fd247"
   },
   "outputs": [],
   "source": [
    "import numpy as np\n",
    "import networkx\n",
    "from scipy import linalg, sparse\n",
    "import sklearn\n",
    "from sklearn.covariance import GraphicalLassoCV, GraphicalLasso\n",
    "from sklearn.linear_model import Lasso\n",
    "import matplotlib.pyplot as plt\n",
    "import seaborn as sns\n",
    "import pandas as pd\n",
    "p=50"
   ]
  },
  {
   "cell_type": "code",
   "execution_count": 2,
   "metadata": {
    "colab": {
     "base_uri": "https://localhost:8080/",
     "height": 119
    },
    "colab_type": "code",
    "id": "iNRjFHPYp47q",
    "outputId": "cc604648-1224-4f67-cdd1-2576e63954d9"
   },
   "outputs": [
    {
     "name": "stdout",
     "output_type": "stream",
     "text": [
      "Requirement already satisfied: robust-selection in /Users/chautran/opt/anaconda3/lib/python3.7/site-packages (0.0.5)\r\n",
      "Requirement already satisfied: numpy>=1.15 in /Users/chautran/opt/anaconda3/lib/python3.7/site-packages (from robust-selection) (1.17.4)\r\n",
      "Requirement already satisfied: scipy>=1.1.0 in /Users/chautran/opt/anaconda3/lib/python3.7/site-packages (from robust-selection) (1.3.1)\r\n"
     ]
    }
   ],
   "source": [
    "!pip install robust-selection"
   ]
  },
  {
   "cell_type": "markdown",
   "metadata": {
    "colab_type": "text",
    "id": "27WC0eMe4QmA"
   },
   "source": [
    "## Define Functions"
   ]
  },
  {
   "cell_type": "code",
   "execution_count": 3,
   "metadata": {
    "colab": {},
    "colab_type": "code",
    "id": "-SsiH2tA4QmA"
   },
   "outputs": [],
   "source": [
    "def MCC(omega_true, omega_hat, p):\n",
    "    \n",
    "    #Get off-diagonal entries\n",
    "    omega_true = omega_true[np.tril_indices(p,-1)]\n",
    "    omega_hat = omega_hat[np.tril_indices(p,-1)]\n",
    "    \n",
    "    #MCC\n",
    "    TP = np.sum((omega_true!=0.) & (omega_hat!=0.))\n",
    "    FN = np.sum((omega_true!=0.) & (omega_hat==0.))\n",
    "    FP = np.sum((omega_true==0.) & (omega_hat!=0.))\n",
    "    TN = np.sum((omega_true==0.) & (omega_hat==0.))\n",
    "    MCC = (TP*TN - FP*FN)/np.sqrt((TP+FP)*(TP+FN)*(TN+FP)*(TN+FN))\n",
    "    return MCC"
   ]
  },
  {
   "cell_type": "markdown",
   "metadata": {
    "colab_type": "text",
    "id": "hRhQyX4t4QmD"
   },
   "source": [
    "## Create Precision matrix"
   ]
  },
  {
   "cell_type": "code",
   "execution_count": 5,
   "metadata": {
    "colab": {},
    "colab_type": "code",
    "id": "XP5V9EjA4QmE"
   },
   "outputs": [],
   "source": [
    "#Create Omega\n",
    "np.random.seed(1)\n",
    "#edge probability 0.1 and p = 50\n",
    "ER_graph = networkx.to_numpy_matrix(networkx.gnp_random_graph(n=p, p=0.1))\n",
    "\n",
    "edge_weights = np.random.uniform(low=0.5, high=1., size=(p,p))\n",
    "edge_signs = np.random.choice([-1,1], size=(p,p))\n",
    "\n",
    "Omega = np.multiply(edge_weights, edge_signs)\n",
    "Omega = np.multiply(ER_graph, Omega)\n",
    "#Positive Definite procedure\n",
    "for i in range(p):\n",
    "    Omega[i,i] = 1\n",
    "    off_sum = np.sum(np.abs(Omega[i,:i])) + np.sum(np.abs(Omega[i,i+1:]))\n",
    "    Omega[i,:i] = Omega[i,:i]/(1.5*off_sum)\n",
    "    Omega[i,i+1:] = Omega[i,i+1:]/(1.5*off_sum)\n",
    "#Average for Symmetry\n",
    "Omega = (Omega + Omega.T)/2\n",
    "Sigma = np.linalg.inv(Omega)"
   ]
  },
  {
   "cell_type": "code",
   "execution_count": 6,
   "metadata": {
    "colab": {},
    "colab_type": "code",
    "id": "uDzEFjdv4QmG"
   },
   "outputs": [],
   "source": [
    "#Omega"
   ]
  },
  {
   "cell_type": "markdown",
   "metadata": {
    "colab_type": "text",
    "id": "yJSizZUq4QmJ"
   },
   "source": [
    "## Generate Data"
   ]
  },
  {
   "cell_type": "code",
   "execution_count": 7,
   "metadata": {
    "colab": {},
    "colab_type": "code",
    "id": "i2IxLknX4QmJ"
   },
   "outputs": [],
   "source": [
    "n_list = [100, 250, 500]\n",
    "n_datasets = 100\n",
    "def generate_data(n):\n",
    "    prng = np.random.RandomState(1)\n",
    "    data = prng.multivariate_normal(np.zeros(p), Sigma, size=(n_datasets,n))\n",
    "    return data\n",
    "data_list = []\n",
    "for n in n_list:\n",
    "    data_list.append(generate_data(n))"
   ]
  },
  {
   "cell_type": "markdown",
   "metadata": {
    "colab_type": "text",
    "id": "eTKgLvyi4QmL"
   },
   "source": [
    "## Graphical Lasso CV with Sklearn"
   ]
  },
  {
   "cell_type": "code",
   "execution_count": 8,
   "metadata": {
    "colab": {},
    "colab_type": "code",
    "id": "YeU5Du8_4QmM"
   },
   "outputs": [],
   "source": [
    "lambda_cv = np.zeros((3,n_datasets))\n",
    "mcc_cv = np.zeros((3,n_datasets))\n",
    "for j in range (3):\n",
    "    for i in range(n_datasets):\n",
    "        #Fit model\n",
    "        model = GraphicalLassoCV().fit(data_list[j][i])\n",
    "        #Add lambda\n",
    "        lambda_cv[j,i] = model.alpha_\n",
    "        omega_hat = model.precision_\n",
    "        mcc = MCC(Omega, omega_hat, p)\n",
    "        mcc_cv[j,i] = mcc"
   ]
  },
  {
   "cell_type": "markdown",
   "metadata": {
    "colab_type": "text",
    "id": "yzoGgTAE4QmV"
   },
   "source": [
    "## RobSel"
   ]
  },
  {
   "cell_type": "code",
   "execution_count": 9,
   "metadata": {},
   "outputs": [],
   "source": [
    "from robsel.robsel import *"
   ]
  },
  {
   "cell_type": "code",
   "execution_count": 10,
   "metadata": {
    "colab": {},
    "colab_type": "code",
    "id": "ahtYGk3E4QmV",
    "scrolled": true
   },
   "outputs": [],
   "source": [
    "#alpha_list = np.array([0.1, 0.21, 0.33, 0.44, 0.56])\n",
    "\n",
    "lambda_robsel = np.zeros((3,n_datasets))\n",
    "mcc_robsel = np.zeros((3,n_datasets))\n",
    "\n",
    "#alpha = 0.9 for Figure 2\n",
    "for j in range (3):\n",
    "    for i in range(n_datasets):\n",
    "        lambd = RobustSelection(data_list[j][i], B=200, alpha=0.9)\n",
    "        lambda_robsel[j,i] = lambd\n",
    "\n",
    "        #Fit Graphical Lasso with RobSel lambda\n",
    "        model = GraphicalLasso(alpha=lambd).fit(data_list[j][i])\n",
    "        omega_hat = model.precision_\n",
    "        mcc = MCC(Omega, omega_hat, p)\n",
    "        mcc_robsel[j,i] = mcc"
   ]
  },
  {
   "cell_type": "markdown",
   "metadata": {
    "colab_type": "text",
    "id": "er3febAX4QmZ"
   },
   "source": [
    "## Plot"
   ]
  },
  {
   "cell_type": "code",
   "execution_count": 14,
   "metadata": {
    "colab": {},
    "colab_type": "code",
    "id": "vppeSflG4QmZ"
   },
   "outputs": [],
   "source": [
    "data1 = pd.DataFrame(lambda_cv.flatten(),columns=[\"lambd\"])\n",
    "data1[\"type\"] = np.full(300, \"CV\")\n",
    "data1[\"n\"] = pd.Series(100*[\"n=100\"] + 100*[\"n=250\"] + 100*[\"n=500\"]).astype('category')\n",
    "data1[\"mcc\"] = mcc_cv.flatten()\n",
    "\n",
    "\n",
    "data2 = pd.DataFrame(lambda_robsel.flatten(),columns=[\"lambd\"])\n",
    "data2[\"type\"] = np.full(300, \"RS\")\n",
    "data2[\"n\"] = pd.Series(100*[\"n=100\"] + 100*[\"n=250\"] + 100*[\"n=500\"]).astype('category')\n",
    "data2[\"mcc\"] = mcc_robsel.flatten()\n",
    "data = pd.concat([data1, data2], ignore_index=True)"
   ]
  },
  {
   "cell_type": "code",
   "execution_count": 15,
   "metadata": {
    "colab": {},
    "colab_type": "code",
    "id": "I9pRMaZV4Qmb",
    "outputId": "395eed29-3442-465b-e96e-eba0a2f6f9a9"
   },
   "outputs": [
    {
     "data": {
      "text/plain": [
       "(0.0, 0.4)"
      ]
     },
     "execution_count": 15,
     "metadata": {},
     "output_type": "execute_result"
    },
    {
     "data": {
      "text/plain": [
       "<Figure size 1152x432 with 0 Axes>"
      ]
     },
     "metadata": {},
     "output_type": "display_data"
    },
    {
     "data": {
      "image/png": "[encoded data removed]",
      "text/plain": [
       "<Figure size 429.75x360 with 1 Axes>"
      ]
     },
     "metadata": {
      "needs_background": "light"
     },
     "output_type": "display_data"
    }
   ],
   "source": [
    "plt.figure(figsize=(16, 6))\n",
    "ax = sns.lmplot(x=\"lambd\",y='mcc', hue=\"n\", data=data, order=2,scatter_kws={\"s\":10})\n",
    "ax.axes[0,0].set_ylim(0,.6)\n",
    "ax.axes[0,0].set_xlim(0.,0.4)"
   ]
  },
  {
   "cell_type": "code",
   "execution_count": 16,
   "metadata": {
    "colab": {},
    "colab_type": "code",
    "id": "zDa73nHj4Qmd",
    "outputId": "0079bef1-b54e-4a3d-830b-a50a0fc04c1b"
   },
   "outputs": [
    {
     "data": {
      "text/plain": [
       "(0, 0.4)"
      ]
     },
     "execution_count": 16,
     "metadata": {},
     "output_type": "execute_result"
    },
    {
     "data": {
      "image/png": "[encoded data removed]",
      "text/plain": [
       "<Figure size 396x216 with 1 Axes>"
      ]
     },
     "metadata": {
      "needs_background": "light"
     },
     "output_type": "display_data"
    }
   ],
   "source": [
    "plt.figure(figsize=(5.5, 3))\n",
    "ax = sns.boxplot(x=data[\"lambd\"], y=data[\"type\"],hue=data[\"n\"],orient=\"h\")\n",
    "ax.set_xlim(0,0.4)"
   ]
  },
  {
   "cell_type": "code",
   "execution_count": null,
   "metadata": {
    "colab": {},
    "colab_type": "code",
    "id": "4Ihsdrnq4Qmg"
   },
   "outputs": [],
   "source": []
  },
  {
   "cell_type": "code",
   "execution_count": null,
   "metadata": {
    "colab": {},
    "colab_type": "code",
    "id": "q_SxwZIAp4Cv"
   },
   "outputs": [],
   "source": []
  }
 ],
 "metadata": {
  "colab": {
   "name": "robsel.ipynb",
   "provenance": []
  },
  "kernelspec": {
   "display_name": "Python 3",
   "language": "python",
   "name": "python3"
  },
  "language_info": {
   "codemirror_mode": {
    "name": "ipython",
    "version": 3
   },
   "file_extension": ".py",
   "mimetype": "text/x-python",
   "name": "python",
   "nbconvert_exporter": "python",
   "pygments_lexer": "ipython3",
   "version": "3.7.4"
  }
 },
 "nbformat": 4,
 "nbformat_minor": 1
}
